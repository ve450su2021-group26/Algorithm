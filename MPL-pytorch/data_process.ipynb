{
 "metadata": {
  "language_info": {
   "codemirror_mode": {
    "name": "ipython",
    "version": 3
   },
   "file_extension": ".py",
   "mimetype": "text/x-python",
   "name": "python",
   "nbconvert_exporter": "python",
   "pygments_lexer": "ipython3",
   "version": "3.7.3"
  },
  "orig_nbformat": 4,
  "kernelspec": {
   "name": "python3",
   "display_name": "Python 3.7.3 64-bit ('base': conda)"
  },
  "interpreter": {
   "hash": "fd7faafd93e73cb726a1944b6ae708110aedf5f8970cd72fe092f60b3530fe0b"
  }
 },
 "nbformat": 4,
 "nbformat_minor": 2,
 "cells": [
  {
   "cell_type": "code",
   "execution_count": 8,
   "metadata": {},
   "outputs": [],
   "source": [
    "# -*- coding: utf-8 -*-\n",
    "import pandas as pd\n",
    "from pathlib2 import Path\n",
    "\n",
    "\n",
    "STYLES = {'wenxin':0, 'keji':1, 'jianyue':2, 'xiqing':3, 'qingxin':4, 'fugu':5, 'shangwu':6, 'xuanku':7,'menghuan':8}\n",
    "csv_files_dir = Path('/Users/zhangjunjie/Downloads/HWS/labels')\n",
    "df = pd.concat(\n",
    "    [pd.read_csv(csv_file,encoding='gbk') for csv_file in csv_files_dir.glob('*.csv')])"
   ]
  },
  {
   "cell_type": "code",
   "execution_count": 19,
   "metadata": {},
   "outputs": [],
   "source": [
    "new_df = df.drop(['original_file_name','pic_uuid'],axis=1)\n",
    "for _, row in new_df.iterrows():\n",
    "    #print(row)\n",
    "    label = eval(row['style_dict'])\n",
    "    style = max(label, key=label.get)\n",
    "    row['style_dict'] = STYLES[style]\n",
    "new_df.columns = ['img_file_name', 'label']"
   ]
  },
  {
   "cell_type": "code",
   "execution_count": 20,
   "metadata": {
    "tags": []
   },
   "outputs": [],
   "source": [
    "new_df.to_csv('/Users/zhangjunjie/Downloads/HWS/labels.csv', index=False)"
   ]
  },
  {
   "cell_type": "code",
   "execution_count": null,
   "metadata": {},
   "outputs": [],
   "source": []
  }
 ]
}